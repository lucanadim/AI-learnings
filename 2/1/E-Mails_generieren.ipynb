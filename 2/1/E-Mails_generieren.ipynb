{
 "cells": [
  {
   "cell_type": "markdown",
   "metadata": {},
   "source": [
    "1"
   ]
  },
  {
   "cell_type": "code",
   "execution_count": 2,
   "metadata": {},
   "outputs": [
    {
     "name": "stdout",
     "output_type": "stream",
     "text": [
      "Gespeichert: E-Mails\\Arbeit_Email_41.csv\n",
      "Gespeichert: E-Mails\\Arbeit_Email_42.csv\n",
      "Gespeichert: E-Mails\\Arbeit_Email_43.csv\n",
      "Gespeichert: E-Mails\\Arbeit_Email_44.csv\n",
      "Gespeichert: E-Mails\\Arbeit_Email_45.csv\n",
      "Gespeichert: E-Mails\\Arbeit_Email_46.csv\n",
      "Gespeichert: E-Mails\\Arbeit_Email_47.csv\n",
      "Gespeichert: E-Mails\\Arbeit_Email_48.csv\n",
      "Gespeichert: E-Mails\\Arbeit_Email_49.csv\n",
      "Gespeichert: E-Mails\\Arbeit_Email_50.csv\n",
      "Gespeichert: E-Mails\\Finanzen_Email_41.csv\n",
      "Gespeichert: E-Mails\\Finanzen_Email_42.csv\n",
      "Gespeichert: E-Mails\\Finanzen_Email_43.csv\n",
      "Gespeichert: E-Mails\\Finanzen_Email_44.csv\n",
      "Gespeichert: E-Mails\\Finanzen_Email_45.csv\n",
      "Gespeichert: E-Mails\\Finanzen_Email_46.csv\n",
      "Gespeichert: E-Mails\\Finanzen_Email_47.csv\n",
      "Gespeichert: E-Mails\\Finanzen_Email_48.csv\n",
      "Gespeichert: E-Mails\\Finanzen_Email_49.csv\n",
      "Gespeichert: E-Mails\\Finanzen_Email_50.csv\n",
      "Gespeichert: E-Mails\\Werbung_Email_41.csv\n",
      "Gespeichert: E-Mails\\Werbung_Email_42.csv\n",
      "Gespeichert: E-Mails\\Werbung_Email_43.csv\n",
      "Gespeichert: E-Mails\\Werbung_Email_44.csv\n",
      "Gespeichert: E-Mails\\Werbung_Email_45.csv\n",
      "Gespeichert: E-Mails\\Werbung_Email_46.csv\n",
      "Gespeichert: E-Mails\\Werbung_Email_47.csv\n",
      "Gespeichert: E-Mails\\Werbung_Email_48.csv\n",
      "Gespeichert: E-Mails\\Werbung_Email_49.csv\n",
      "Gespeichert: E-Mails\\Werbung_Email_50.csv\n",
      "Alle E-Mails wurden erfolgreich generiert und gespeichert!\n"
     ]
    }
   ],
   "source": [
    "import os\n",
    "import pandas as pd\n",
    "\n",
    "# Zielordner definieren\n",
    "output_folder = \"E-Mails\"\n",
    "os.makedirs(output_folder, exist_ok=True)\n",
    "\n",
    "# Kategorien und Beispieldaten\n",
    "email_data = {\n",
    "    \"Arbeit\": [\n",
    "        (\"Projektstatus-Update\", \"Das Projekt A befindet sich in der finalen Phase.\", \"chef@firma.com\"),\n",
    "        (\"Meeting-Erinnerung\", \"Unser wöchentliches Team-Meeting ist morgen um 10 Uhr.\", \"hr@firma.com\"),\n",
    "        (\"Neue Richtlinien\", \"Bitte beachten Sie die neuen Homeoffice-Richtlinien.\", \"admin@firma.com\"),\n",
    "        (\"Urlaubsantrag\", \"Ihr Urlaubsantrag wurde genehmigt.\", \"hr@firma.com\"),\n",
    "        (\"Schulungstermin\", \"Die nächste Schulung zum Thema IT-Sicherheit findet am Freitag statt.\", \"it@firma.com\"),\n",
    "        (\"Gehaltsabrechnung\", \"Ihre Gehaltsabrechnung für diesen Monat ist verfügbar.\", \"buchhaltung@firma.com\"),\n",
    "        (\"Serverwartung\", \"Wartungsarbeiten am Server sind für Samstag geplant.\", \"it@firma.com\"),\n",
    "        (\"Kundentermin\", \"Ein neuer Kundentermin wurde in Ihrem Kalender eingetragen.\", \"vertrieb@firma.com\"),\n",
    "        (\"Team-Event\", \"Bitte melden Sie sich für das nächste Team-Event an.\", \"event@firma.com\"),\n",
    "        (\"Feedbackgespräch\", \"Ihr Feedbackgespräch ist für nächste Woche angesetzt.\", \"hr@firma.com\"),\n",
    "    ],\n",
    "    \"Finanzen\": [\n",
    "        (\"Rechnung Nr. 5678\", \"Bitte begleichen Sie die Rechnung bis zum 15. des Monats.\", \"service@bank.com\"),\n",
    "        (\"Steuererklärung\", \"Denken Sie an die Frist für die Steuererklärung.\", \"steuerberater@firma.com\"),\n",
    "        (\"Investitionsmöglichkeiten\", \"Neue Anlagemöglichkeiten für 2024\", \"beratung@finanzdienstleister.com\"),\n",
    "        (\"Gehaltseingang\", \"Ihr Gehalt wurde auf Ihr Konto überwiesen.\", \"bank@firma.com\"),\n",
    "        (\"Kreditangebot\", \"Sonderkonditionen für Firmenkredite diesen Monat.\", \"bank@firma.com\"),\n",
    "        (\"Versicherungspolice\", \"Ihre neue Versicherungspolice ist verfügbar.\", \"versicherung@firma.com\"),\n",
    "        (\"Kontoaktivität\", \"Ungewöhnliche Aktivitäten auf Ihrem Konto festgestellt.\", \"sicherheit@bank.com\"),\n",
    "        (\"Jahresabschluss\", \"Der Jahresabschlussbericht ist jetzt verfügbar.\", \"buchhaltung@firma.com\"),\n",
    "        (\"Spesenabrechnung\", \"Bitte reichen Sie Ihre Spesenabrechnung ein.\", \"finance@firma.com\"),\n",
    "        (\"Sparplan\", \"Neue Konditionen für Sparpläne.\", \"bank@firma.com\"),\n",
    "    ],\n",
    "    \"Werbung\": [\n",
    "        (\"Super Sale\", \"Nur heute 50% auf alle Artikel!\", \"newsletter@shop.com\"),\n",
    "        (\"Neues Produkt\", \"Entdecken Sie unsere neueste Innovation.\", \"marketing@firma.com\"),\n",
    "        (\"Exklusive Einladung\", \"VIP-Event für unsere treuesten Kunden.\", \"events@firma.com\"),\n",
    "        (\"Rabattaktion\", \"Sichern Sie sich 20% auf Ihre nächste Bestellung.\", \"promo@shop.com\"),\n",
    "        (\"Treuepunkte\", \"Ihr aktueller Punktestand beträgt 1.200 Punkte.\", \"loyalty@shop.com\"),\n",
    "        (\"Newsletter\", \"Die neuesten Trends und Angebote in Ihrer Branche.\", \"news@magazin.com\"),\n",
    "        (\"Gratisprobe\", \"Testen Sie unser neues Produkt kostenlos.\", \"promo@firma.com\"),\n",
    "        (\"Sommerkollektion\", \"Unsere Sommermode ist jetzt verfügbar!\", \"fashion@shop.com\"),\n",
    "        (\"Exklusiver Zugang\", \"Seien Sie unter den Ersten, die unser neues Produkt testen.\", \"vip@firma.com\"),\n",
    "        (\"Gewinnspiel\", \"Nehmen Sie an unserem großen Gewinnspiel teil!\", \"contest@firma.com\"),\n",
    "    ]\n",
    "}\n",
    "\n",
    "# CSV-Dateien für jede Kategorie erstellen\n",
    "for category, emails in email_data.items():\n",
    "    for i, (betreff, nachricht, absender) in enumerate(emails, start=41):\n",
    "        df = pd.DataFrame([{\"Betreff\": betreff, \"Nachricht\": nachricht, \"Absender\": absender}])\n",
    "        filename = os.path.join(output_folder, f\"{category}_Email_{i}.csv\")\n",
    "        df.to_csv(filename, index=False, encoding=\"utf-8\")\n",
    "        print(f\"Gespeichert: {filename}\")\n",
    "\n",
    "print(\"Alle E-Mails wurden erfolgreich generiert und gespeichert!\")"
   ]
  }
 ],
 "metadata": {
  "kernelspec": {
   "display_name": "Python 3",
   "language": "python",
   "name": "python3"
  },
  "language_info": {
   "codemirror_mode": {
    "name": "ipython",
    "version": 3
   },
   "file_extension": ".py",
   "mimetype": "text/x-python",
   "name": "python",
   "nbconvert_exporter": "python",
   "pygments_lexer": "ipython3",
   "version": "3.10.11"
  }
 },
 "nbformat": 4,
 "nbformat_minor": 2
}
