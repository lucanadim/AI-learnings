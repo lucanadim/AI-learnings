{
 "cells": [
  {
   "cell_type": "markdown",
   "metadata": {},
   "source": [
    "1"
   ]
  },
  {
   "cell_type": "code",
   "execution_count": 4,
   "metadata": {},
   "outputs": [
    {
     "name": "stdout",
     "output_type": "stream",
     "text": [
      "Gespeichert: E-Mails\\Arbeit_Email_1.csv\n",
      "Gespeichert: E-Mails\\Arbeit_Email_2.csv\n",
      "Gespeichert: E-Mails\\Arbeit_Email_3.csv\n",
      "Gespeichert: E-Mails\\Arbeit_Email_4.csv\n",
      "Gespeichert: E-Mails\\Arbeit_Email_5.csv\n",
      "Gespeichert: E-Mails\\Arbeit_Email_6.csv\n",
      "Gespeichert: E-Mails\\Arbeit_Email_7.csv\n",
      "Gespeichert: E-Mails\\Arbeit_Email_8.csv\n",
      "Gespeichert: E-Mails\\Arbeit_Email_9.csv\n",
      "Gespeichert: E-Mails\\Arbeit_Email_10.csv\n",
      "Gespeichert: E-Mails\\Finanzen_Email_1.csv\n",
      "Gespeichert: E-Mails\\Finanzen_Email_2.csv\n",
      "Gespeichert: E-Mails\\Finanzen_Email_3.csv\n",
      "Gespeichert: E-Mails\\Finanzen_Email_4.csv\n",
      "Gespeichert: E-Mails\\Finanzen_Email_5.csv\n",
      "Gespeichert: E-Mails\\Finanzen_Email_6.csv\n",
      "Gespeichert: E-Mails\\Finanzen_Email_7.csv\n",
      "Gespeichert: E-Mails\\Finanzen_Email_8.csv\n",
      "Gespeichert: E-Mails\\Finanzen_Email_9.csv\n",
      "Gespeichert: E-Mails\\Finanzen_Email_10.csv\n",
      "Gespeichert: E-Mails\\Werbung_Email_1.csv\n",
      "Gespeichert: E-Mails\\Werbung_Email_2.csv\n",
      "Gespeichert: E-Mails\\Werbung_Email_3.csv\n",
      "Gespeichert: E-Mails\\Werbung_Email_4.csv\n",
      "Gespeichert: E-Mails\\Werbung_Email_5.csv\n",
      "Gespeichert: E-Mails\\Werbung_Email_6.csv\n",
      "Gespeichert: E-Mails\\Werbung_Email_7.csv\n",
      "Gespeichert: E-Mails\\Werbung_Email_8.csv\n",
      "Gespeichert: E-Mails\\Werbung_Email_9.csv\n",
      "Gespeichert: E-Mails\\Werbung_Email_10.csv\n",
      "Alle E-Mails wurden erfolgreich generiert und gespeichert!\n"
     ]
    }
   ],
   "source": [
    "import os\n",
    "import pandas as pd\n",
    "\n",
    "# Zielordner definieren\n",
    "output_folder = \"E-Mails\"\n",
    "os.makedirs(output_folder, exist_ok=True)\n",
    "\n",
    "# Kategorien und Beispieldaten\n",
    "email_data = {\n",
    "    \"Arbeit\": [\n",
    "        (\"Meeting-Erinnerung\", \"Das Meeting ist am Montag um 10 Uhr.\", \"chef@firma.com\"),\n",
    "        (\"Projektstatus\", \"Bitte senden Sie den aktuellen Status des Projekts.\", \"manager@firma.com\"),\n",
    "        (\"Urlaubsantrag\", \"Ich beantrage Urlaub für nächste Woche.\", \"mitarbeiter@firma.com\"),\n",
    "        (\"Team-Update\", \"Hier ist das wöchentliche Update für das Team.\", \"hr@firma.com\"),\n",
    "        (\"Schulungstermin\", \"Die Schulung findet am Freitag um 14 Uhr statt.\", \"trainer@firma.com\"),\n",
    "        (\"Neue Richtlinien\", \"Bitte lesen Sie die neuen Unternehmensrichtlinien.\", \"leitung@firma.com\"),\n",
    "        (\"Projektplanung\", \"Wir müssen die Meilensteine für das neue Projekt festlegen.\", \"pm@firma.com\"),\n",
    "        (\"Meeting-Protokoll\", \"Hier ist das Protokoll des letzten Meetings.\", \"sekretariat@firma.com\"),\n",
    "        (\"Onboarding\", \"Willkommen im Unternehmen! Hier sind die ersten Schritte.\", \"hr@firma.com\"),\n",
    "        (\"Budgetplanung\", \"Bitte überprüfen Sie das Budget für das kommende Quartal.\", \"finanzen@firma.com\")\n",
    "    ],\n",
    "    \"Finanzen\": [\n",
    "        (\"Rechnung fällig\", \"Ihre Rechnung ist zum 15. des Monats fällig.\", \"buchhaltung@firma.com\"),\n",
    "        (\"Steuererklärung\", \"Vergessen Sie nicht, Ihre Steuererklärung einzureichen.\", \"steuerberater@firma.com\"),\n",
    "        (\"Kontoauszug\", \"Ihr aktueller Kontoauszug ist verfügbar.\", \"bank@finanzen.com\"),\n",
    "        (\"Investition\", \"Neue Investitionsmöglichkeiten stehen zur Verfügung.\", \"investment@firma.com\"),\n",
    "        (\"Budgetfreigabe\", \"Ihr Budget wurde für das nächste Quartal genehmigt.\", \"leitung@firma.com\"),\n",
    "        (\"Lohnabrechnung\", \"Ihre Lohnabrechnung für diesen Monat ist bereit.\", \"hr@firma.com\"),\n",
    "        (\"Kreditantrag\", \"Ihr Kreditantrag wurde genehmigt.\", \"bank@firma.com\"),\n",
    "        (\"Aktienmarkt\", \"Die neuesten Entwicklungen am Aktienmarkt.\", \"boerse@finanzen.com\"),\n",
    "        (\"Spesenabrechnung\", \"Bitte reichen Sie Ihre Spesenabrechnung ein.\", \"buchhaltung@firma.com\"),\n",
    "        (\"Versicherung\", \"Ihre Versicherungspolice wurde aktualisiert.\", \"versicherung@firma.com\")\n",
    "    ],\n",
    "    \"Werbung\": [\n",
    "        (\"Exklusives Angebot\", \"Nur heute 20% Rabatt auf alle Produkte!\", \"newsletter@shop.com\"),\n",
    "        (\"Neues Produkt\", \"Entdecken Sie unser neuestes Produkt jetzt!\", \"marketing@firma.com\"),\n",
    "        (\"Gewinnspiel\", \"Machen Sie mit und gewinnen Sie tolle Preise!\", \"promo@firma.com\"),\n",
    "        (\"Sonderaktion\", \"Nur noch 3 Tage: 30% Rabatt auf alles!\", \"rabatt@shop.com\"),\n",
    "        (\"Treueprogramm\", \"Sammeln Sie Punkte und erhalten Sie Belohnungen.\", \"kundenservice@shop.com\"),\n",
    "        (\"Frühlingssale\", \"Jetzt sparen bei unserer Frühlingsaktion!\", \"angebote@shop.com\"),\n",
    "        (\"Kostenlose Lieferung\", \"Nur für kurze Zeit: Versandkostenfrei bestellen!\", \"support@shop.com\"),\n",
    "        (\"VIP-Angebot\", \"Exklusiv für Sie: Extra-Rabatt auf Ihren nächsten Einkauf.\", \"vip@shop.com\"),\n",
    "        (\"Abonnieren & sparen\", \"Erhalten Sie exklusive Rabatte als Abonnent.\", \"abo@shop.com\"),\n",
    "        (\"Neuer Katalog\", \"Unser neuer Produktkatalog ist da!\", \"info@shop.com\")\n",
    "    ]\n",
    "}\n",
    "\n",
    "# CSV-Dateien für jede Kategorie erstellen\n",
    "for category, emails in email_data.items():\n",
    "    for i, (betreff, nachricht, absender) in enumerate(emails, start=1):\n",
    "        df = pd.DataFrame([{\"Betreff\": betreff, \"Nachricht\": nachricht, \"Absender\": absender}])\n",
    "        filename = os.path.join(output_folder, f\"{category}_Email_{i}.csv\")\n",
    "        df.to_csv(filename, index=False, encoding=\"utf-8\")\n",
    "        print(f\"Gespeichert: {filename}\")\n",
    "\n",
    "print(\"Alle E-Mails wurden erfolgreich generiert und gespeichert!\")"
   ]
  }
 ],
 "metadata": {
  "kernelspec": {
   "display_name": "Python 3",
   "language": "python",
   "name": "python3"
  },
  "language_info": {
   "codemirror_mode": {
    "name": "ipython",
    "version": 3
   },
   "file_extension": ".py",
   "mimetype": "text/x-python",
   "name": "python",
   "nbconvert_exporter": "python",
   "pygments_lexer": "ipython3",
   "version": "3.10.11"
  }
 },
 "nbformat": 4,
 "nbformat_minor": 2
}
