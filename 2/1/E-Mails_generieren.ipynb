{
 "cells": [
  {
   "cell_type": "markdown",
   "metadata": {},
   "source": [
    "1"
   ]
  },
  {
   "cell_type": "code",
   "execution_count": 7,
   "metadata": {},
   "outputs": [
    {
     "name": "stdout",
     "output_type": "stream",
     "text": [
      "Gespeichert: E-Mails\\Arbeit_Email_56.csv\n",
      "Gespeichert: E-Mails\\Arbeit_Email_57.csv\n",
      "Gespeichert: E-Mails\\Arbeit_Email_58.csv\n",
      "Gespeichert: E-Mails\\Arbeit_Email_59.csv\n",
      "Gespeichert: E-Mails\\Arbeit_Email_60.csv\n",
      "Gespeichert: E-Mails\\Finanzen_Email_56.csv\n",
      "Gespeichert: E-Mails\\Finanzen_Email_57.csv\n",
      "Gespeichert: E-Mails\\Finanzen_Email_58.csv\n",
      "Gespeichert: E-Mails\\Finanzen_Email_59.csv\n",
      "Gespeichert: E-Mails\\Finanzen_Email_60.csv\n",
      "Gespeichert: E-Mails\\Werbung_Email_56.csv\n",
      "Gespeichert: E-Mails\\Werbung_Email_57.csv\n",
      "Gespeichert: E-Mails\\Werbung_Email_58.csv\n",
      "Gespeichert: E-Mails\\Werbung_Email_59.csv\n",
      "Gespeichert: E-Mails\\Werbung_Email_60.csv\n",
      "Alle E-Mails wurden erfolgreich generiert und gespeichert!\n"
     ]
    }
   ],
   "source": [
    "import os\n",
    "import pandas as pd\n",
    "\n",
    "# Zielordner definieren\n",
    "output_folder = \"E-Mails\"\n",
    "os.makedirs(output_folder, exist_ok=True)\n",
    "\n",
    "# Kategorien und Beispieldaten\n",
    "email_data = {\n",
    "    \"Arbeit\": [\n",
    "        (\"Projektmeeting\", \"Das Meeting wurde auf 15:00 Uhr verschoben.\", \"chef@firma.com\"),\n",
    "        (\"Urlaubsgenehmigung\", \"Ihr Urlaub wurde genehmigt.\", \"hr@firma.com\"),\n",
    "        (\"Neue Richtlinien\", \"Bitte beachten Sie die neuen Sicherheitsrichtlinien.\", \"admin@firma.com\"),\n",
    "        (\"Kundenanfrage\", \"Ein Kunde hat eine Anfrage zu Ihrem Projekt.\", \"support@firma.com\"),\n",
    "        (\"Mitarbeiterumfrage\", \"Bitte nehmen Sie an der Umfrage zur Zufriedenheit teil.\", \"team@firma.com\"),\n",
    "    ],\n",
    "    \"Finanzen\": [\n",
    "        (\"Kontoauszug\", \"Ihr monatlicher Kontoauszug ist verfügbar.\", \"bank@finance.com\"),\n",
    "        (\"Steuerbescheid\", \"Ihr neuer Steuerbescheid wurde erstellt.\", \"steuer@amt.com\"),\n",
    "        (\"Investment Update\", \"Aktuelle Informationen zu Ihrem Portfolio.\", \"broker@finance.com\"),\n",
    "        (\"Rechnung fällig\", \"Die Rechnung für Ihre Bestellung ist fällig.\", \"rechnung@shop.com\"),\n",
    "        (\"Kreditangebot\", \"Exklusives Kreditangebot für Sie!\", \"kredit@bank.com\"),\n",
    "    ],\n",
    "    \"Werbung\": [\n",
    "        (\"50% Rabatt\", \"Nur heute: 50% auf alle Produkte!\", \"promo@shop.com\"),\n",
    "        (\"Neue Kollektion\", \"Entdecken Sie unsere neue Modekollektion.\", \"fashion@shop.com\"),\n",
    "        (\"Gewinnspiel\", \"Nehmen Sie am großen Gewinnspiel teil!\", \"gewinn@lotto.com\"),\n",
    "        (\"Gratis Versand\", \"Diese Woche kostenloser Versand auf alle Bestellungen.\", \"versand@shop.com\"),\n",
    "        (\"Treuebonus\", \"Sie haben einen Treuebonus erhalten.\", \"bonus@shop.com\"),\n",
    "    ],\n",
    "}\n",
    "\n",
    "# CSV-Dateien für jede Kategorie erstellen\n",
    "for category, emails in email_data.items():\n",
    "    for i, (betreff, nachricht, absender) in enumerate(emails, start=56):\n",
    "        df = pd.DataFrame([{\"Betreff\": betreff, \"Nachricht\": nachricht, \"Absender\": absender}])\n",
    "        filename = os.path.join(output_folder, f\"{category}_Email_{i}.csv\")\n",
    "        df.to_csv(filename, index=False, encoding=\"utf-8\")\n",
    "        print(f\"Gespeichert: {filename}\")\n",
    "\n",
    "print(\"Alle E-Mails wurden erfolgreich generiert und gespeichert!\")"
   ]
  }
 ],
 "metadata": {
  "kernelspec": {
   "display_name": "Python 3",
   "language": "python",
   "name": "python3"
  },
  "language_info": {
   "codemirror_mode": {
    "name": "ipython",
    "version": 3
   },
   "file_extension": ".py",
   "mimetype": "text/x-python",
   "name": "python",
   "nbconvert_exporter": "python",
   "pygments_lexer": "ipython3",
   "version": "3.10.11"
  }
 },
 "nbformat": 4,
 "nbformat_minor": 2
}
